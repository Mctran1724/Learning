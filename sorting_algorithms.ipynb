{
 "cells": [
  {
   "cell_type": "markdown",
   "metadata": {},
   "source": [
    "# A self-learning exercise\n",
    "### Foray into sorting algorithms and their performance.\n",
    "I wanted to learn more about computer science in an ab initio and exploratory manner. Sorting algorithms are a part of that journey and so in this project, I write some popular ones from scratch and create a way to test and measure their performance with my own implementations. The methods may be slightly flawed as not all sorting algorithms will have the same degree of optimization."
   ]
  },
  {
   "cell_type": "markdown",
   "metadata": {},
   "source": []
  },
  {
   "cell_type": "code",
   "execution_count": 3,
   "metadata": {},
   "outputs": [],
   "source": [
    "import random\n",
    "from typing import List"
   ]
  },
  {
   "cell_type": "code",
   "execution_count": 68,
   "metadata": {},
   "outputs": [],
   "source": [
    "def merge_sort(arr: List) -> List:\n",
    "    #Base case is trivially sorted unitary array\n",
    "    if len(arr) <= 1:\n",
    "        return arr\n",
    "\n",
    "    #We split the array in half and stitch back sorted half arrays.\n",
    "    mid = len(arr)//2\n",
    "    left = arr[:mid]\n",
    "    right = arr[mid:]\n",
    "    #print(f\"Splitting up array into {left} and {right} and sorting each.\")\n",
    "\n",
    "    sorted_left = merge_sort(left)\n",
    "    sorted_right = merge_sort(right)\n",
    "\n",
    "    #print(f\"Stitching {sorted_left} and {sorted_right} back together\")\n",
    "\n",
    "    i = 0\n",
    "    j = 0\n",
    "\n",
    "    result = []\n",
    "    #Taking advantage of the fact that they're sorted already, it's easy to generate an overall sorted array using a two pointer algorithm\n",
    "\n",
    "    #As long as we have remaining elements in the array\n",
    "    while i < len(sorted_left) and j < len(sorted_right):\n",
    "        if sorted_left[i] < sorted_right[j]:\n",
    "            result.append(sorted_left[i])\n",
    "            i += 1\n",
    "        else:\n",
    "            result.append(sorted_right[j])\n",
    "            j += 1\n",
    " \n",
    "    if i >= len(sorted_left):\n",
    "        result += sorted_right[j:]\n",
    "    elif j >= len(sorted_right):\n",
    "        result += sorted_left[i:]\n",
    "\n",
    "    #print(f\"Array stitching complete: {result}\")\n",
    "\n",
    "    return result\n",
    "\n",
    "\n",
    "def quicksort(arr: List, pivot_point: int = -1) -> List:\n",
    "    if not arr or len(arr) <= 1:\n",
    "        return arr\n",
    "\n",
    "    pivot_point = -1\n",
    "    pivot = arr[pivot_point]\n",
    "    #print(f\"Choosing pivot {pivot} at index {pivot_point}\")\n",
    "    middle = [x for x in arr if x == pivot]\n",
    "    less = [x for x in arr if x < pivot]\n",
    "    greater = [x for x in arr if x > pivot]\n",
    "    #print(f\"Splitting array into {less}, {middle}, and {greater}\")\n",
    "\n",
    "    result = quicksort(less) + quicksort(middle) + quicksort(greater)\n",
    "    return result\n",
    "\n",
    "\n",
    "def selection_sort(arr: List) -> List:\n",
    "    # Go through the array and find the minimum element of the remainder of the array and place it to the front by swapping.\n",
    "    for i in range(len(arr)):\n",
    "        min_index = i\n",
    "        for j in range(i+1, len(arr)):\n",
    "            if arr[j] < arr[min_index]:\n",
    "                min_index = j\n",
    "\n",
    "        arr[i], arr[min_index] = arr[min_index], arr[i]\n",
    "\n",
    "    return arr\n",
    "\n",
    "\n",
    "def insertion_sort(arr: List) -> List:\n",
    "        \n",
    "    for i in range(1, len(arr)):\n",
    "        current_value = arr[i]\n",
    "        j = i\n",
    "        # Check through the sorted portion of the list for the right spot to insert\n",
    "        while j > 0 and arr[j-1] > arr[j]:\n",
    "            #keep swapping the element back as long as the previous one is greater than it.\n",
    "            arr[j], arr[j-1] =  arr[j-1], arr[j]\n",
    "            j -= 1\n",
    "\n",
    "    return arr"
   ]
  },
  {
   "cell_type": "code",
   "execution_count": 40,
   "metadata": {},
   "outputs": [],
   "source": [
    "class AlgoTest:\n",
    "    def __init__(self, n: int, algorithms: List = []):\n",
    "        self._n = int(n) if type(n) is float else n\n",
    "        self._algorithms = algorithms\n",
    "        self._nums = list(range(n))\n",
    "    \n",
    "    def _pre_sort(self, x: float):\n",
    "        #x is the approximate proportion of elements of the array that will already be sorted if it is between 0 and 1\n",
    "        #otherwise, it's the number of elements to keep sorted\n",
    "        nums = self._nums.copy()\n",
    "        if 0 < x <= 1:\n",
    "            shuffle_count = int((1 - x) * self._n)//2\n",
    "        elif x > 1:\n",
    "            shuffle_count = int(self._n - x)\n",
    "        else:\n",
    "            shuffle_count = 0\n",
    "\n",
    "        for _ in range(shuffle_count):\n",
    "            i = random.randint(0, self._n-1)\n",
    "            j = random.randint(0, self._n-1)\n",
    "            nums[i], nums[j] = nums[j], nums[i]\n",
    "\n",
    "        return nums\n",
    "    \n",
    "    def negatives(self):\n",
    "        #Test to see if negative values impact performance\n",
    "        return\n",
    "    \n",
    "    "
   ]
  },
  {
   "cell_type": "code",
   "execution_count": 69,
   "metadata": {},
   "outputs": [
    {
     "name": "stdout",
     "output_type": "stream",
     "text": [
      "[0, 1, 2, 3, 4, 5, 6, 7, 8, 9]\n",
      "[0, 4, 9, 5, 1, 3, 2, 7, 8, 6]\n"
     ]
    },
    {
     "data": {
      "text/plain": [
       "[0, 1, 2, 3, 4, 5, 6, 7, 8, 9]"
      ]
     },
     "execution_count": 69,
     "metadata": {},
     "output_type": "execute_result"
    }
   ],
   "source": [
    "test = list(range(10))\n",
    "print(test)\n",
    "random.shuffle(test)\n",
    "print(test)\n",
    "insertion_sort(test)"
   ]
  },
  {
   "cell_type": "code",
   "execution_count": null,
   "metadata": {},
   "outputs": [],
   "source": []
  },
  {
   "cell_type": "code",
   "execution_count": null,
   "metadata": {},
   "outputs": [],
   "source": []
  },
  {
   "cell_type": "code",
   "execution_count": 63,
   "metadata": {},
   "outputs": [
    {
     "data": {
      "text/plain": [
       "[1, 3, 2, 9, 4, 5]"
      ]
     },
     "execution_count": 63,
     "metadata": {},
     "output_type": "execute_result"
    }
   ],
   "source": []
  },
  {
   "cell_type": "code",
   "execution_count": 62,
   "metadata": {},
   "outputs": [
    {
     "data": {
      "text/plain": [
       "[1, 3, 2, 9, 4, 5]"
      ]
     },
     "execution_count": 62,
     "metadata": {},
     "output_type": "execute_result"
    }
   ],
   "source": []
  },
  {
   "cell_type": "code",
   "execution_count": null,
   "metadata": {},
   "outputs": [],
   "source": []
  },
  {
   "cell_type": "code",
   "execution_count": null,
   "metadata": {},
   "outputs": [],
   "source": []
  }
 ],
 "metadata": {
  "kernelspec": {
   "display_name": "maplestory",
   "language": "python",
   "name": "python3"
  },
  "language_info": {
   "codemirror_mode": {
    "name": "ipython",
    "version": 3
   },
   "file_extension": ".py",
   "mimetype": "text/x-python",
   "name": "python",
   "nbconvert_exporter": "python",
   "pygments_lexer": "ipython3",
   "version": "3.8.9"
  }
 },
 "nbformat": 4,
 "nbformat_minor": 2
}
