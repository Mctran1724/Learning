{
 "cells": [
  {
   "cell_type": "markdown",
   "metadata": {},
   "source": [
    "# A self-learning exercise\n",
    "### Foray into sorting algorithms and their performance.\n",
    "I wanted to learn more about computer science in an ab initio and exploratory manner. Sorting algorithms are a part of that journey and so in this project, I write some popular ones from scratch and create a way to test and measure their performance with my own implementations. The methods may be slightly flawed as not all sorting algorithms will have the same degree of optimization."
   ]
  },
  {
   "cell_type": "markdown",
   "metadata": {},
   "source": []
  },
  {
   "cell_type": "code",
   "execution_count": null,
   "metadata": {},
   "outputs": [],
   "source": [
    "     "
   ]
  },
  {
   "cell_type": "code",
   "execution_count": 20,
   "metadata": {},
   "outputs": [],
   "source": [
    "import matplotlib.pyplot as plt\n",
    "import pandas as pd\n",
    "import tqdm \n",
    "import random\n",
    "from typing import List\n",
    "import timeit\n",
    "import time\n"
   ]
  },
  {
   "cell_type": "markdown",
   "metadata": {},
   "source": [
    "Writing all of the sorting algorithms below\n"
   ]
  },
  {
   "cell_type": "code",
   "execution_count": null,
   "metadata": {},
   "outputs": [],
   "source": []
  },
  {
   "cell_type": "code",
   "execution_count": 15,
   "metadata": {},
   "outputs": [],
   "source": [
    "def merge_sort(arr: List) -> List:\n",
    "    #Base case is trivially sorted unitary array\n",
    "    if len(arr) <= 1:\n",
    "        return arr\n",
    "\n",
    "    #We split the array in half and stitch back sorted half arrays.\n",
    "    mid = len(arr)//2\n",
    "    left = arr[:mid]\n",
    "    right = arr[mid:]\n",
    "    #print(f\"Splitting up array into {left} and {right} and sorting each.\")\n",
    "\n",
    "    sorted_left = merge_sort(left)\n",
    "    sorted_right = merge_sort(right)\n",
    "\n",
    "    #print(f\"Stitching {sorted_left} and {sorted_right} back together\")\n",
    "\n",
    "    i = 0\n",
    "    j = 0\n",
    "\n",
    "    result = []\n",
    "    #Taking advantage of the fact that they're sorted already, it's easy to generate an overall sorted array using a two pointer algorithm\n",
    "\n",
    "    #As long as we have remaining elements in the array\n",
    "    while i < len(sorted_left) and j < len(sorted_right):\n",
    "        if sorted_left[i] < sorted_right[j]:\n",
    "            result.append(sorted_left[i])\n",
    "            i += 1\n",
    "        else:\n",
    "            result.append(sorted_right[j])\n",
    "            j += 1\n",
    " \n",
    "    if i >= len(sorted_left):\n",
    "        result += sorted_right[j:]\n",
    "    elif j >= len(sorted_right):\n",
    "        result += sorted_left[i:]\n",
    "\n",
    "    #print(f\"Array stitching complete: {result}\")\n",
    "\n",
    "    return result\n",
    "\n",
    "\n",
    "def quicksort_recursive(arr: List, pivot_point: int = -1) -> List:\n",
    "    if not arr or len(arr) <= 1:\n",
    "        return arr\n",
    "\n",
    "    pivot_point = -1\n",
    "    pivot = arr[pivot_point]\n",
    "    #print(f\"Choosing pivot {pivot} at index {pivot_point}\")\n",
    "    middle = [x for x in arr if x == pivot]\n",
    "    less = [x for x in arr if x < pivot]\n",
    "    greater = [x for x in arr if x > pivot]\n",
    "    #print(f\"Splitting array into {less}, {middle}, and {greater}\")\n",
    "\n",
    "    result = quicksort_recursive(less) + quicksort_recursive(middle) + quicksort_recursive(greater)\n",
    "    return result\n",
    "\n",
    "def selection_sort(arr: List) -> List:\n",
    "    # Go through the array and find the minimum element of the remainder of the array and place it to the front by swapping.\n",
    "    for i in range(len(arr)):\n",
    "        min_index = i\n",
    "        for j in range(i+1, len(arr)):\n",
    "            if arr[j] < arr[min_index]:\n",
    "                min_index = j\n",
    "\n",
    "        arr[i], arr[min_index] = arr[min_index], arr[i]\n",
    "\n",
    "    return arr\n",
    "\n",
    "\n",
    "def insertion_sort(arr: List) -> List:\n",
    "        \n",
    "    for i in range(1, len(arr)):\n",
    "        current_value = arr[i]\n",
    "        j = i\n",
    "        # Check through the sorted portion of the list for the right spot to insert\n",
    "        while j > 0 and arr[j-1] > arr[j]:\n",
    "            #keep swapping the element back as long as the previous one is greater than it.\n",
    "            arr[j], arr[j-1] =  arr[j-1], arr[j]\n",
    "            j -= 1\n",
    "\n",
    "    return arr"
   ]
  },
  {
   "cell_type": "markdown",
   "metadata": {},
   "source": [
    "Writing some code to test the sorting algorithms"
   ]
  },
  {
   "cell_type": "code",
   "execution_count": 21,
   "metadata": {},
   "outputs": [],
   "source": [
    "class AlgoTest:\n",
    "\n",
    "\n",
    "    def __init__(self, n: int, algorithms: List = [], num_runs: int = 100):\n",
    "        self._n = int(n) if type(n) is float else n\n",
    "        self._algorithms = algorithms\n",
    "        self._nums = list(range(n))\n",
    "        self._runtimes = dict(zip([x.__name__ for x in algorithms], [0]*len(algorithms)))\n",
    "        self._num_runs = num_runs\n",
    "    \n",
    "\n",
    "    def _pre_sort(self, x: float):\n",
    "        #x is the approximate proportion of elements of the array that will already be sorted if it is between 0 and 1\n",
    "        #otherwise, it's the number of elements to keep sorted\n",
    "        nums = self._nums.copy()\n",
    "        if 0 < x <= 1:\n",
    "            shuffle_count = int((1 - x) * self._n)//2\n",
    "        elif x > 1:\n",
    "            shuffle_count = int(self._n - x)\n",
    "        else:\n",
    "            shuffle_count = 0\n",
    "\n",
    "        for _ in range(shuffle_count):\n",
    "            i = random.randint(0, self._n-1)\n",
    "            j = random.randint(0, self._n-1)\n",
    "            nums[i], nums[j] = nums[j], nums[i]\n",
    "\n",
    "        return nums\n",
    "    \n",
    "\n",
    "    def benchmark(self, f, arr):\n",
    "        s = f\"{f.__name__}({arr})\"\n",
    "        result = min(timeit.repeat(s, globals=globals(), number = self._num_runs, repeat=3))\n",
    "        return result\n",
    "\n",
    "\n",
    "    def run_test(self, arr: List = []) -> None:\n",
    "        if arr == []:\n",
    "            arr = self._nums\n",
    "        for algorithm in self._algorithms:\n",
    "            runtime = self.benchmark(algorithm, arr)\n",
    "            self._runtimes[algorithm.__name__] = runtime\n",
    "        return\n",
    "    \n",
    "\n",
    "    def runtimes(self):\n",
    "        self.run_test()\n",
    "        return self._runtimes\n",
    "\n",
    "\n",
    "\n"
   ]
  },
  {
   "cell_type": "code",
   "execution_count": null,
   "metadata": {},
   "outputs": [],
   "source": [
    "results = pd.DataFrame()\n"
   ]
  },
  {
   "cell_type": "code",
   "execution_count": 30,
   "metadata": {},
   "outputs": [
    {
     "data": {
      "text/html": [
       "<div>\n",
       "<style scoped>\n",
       "    .dataframe tbody tr th:only-of-type {\n",
       "        vertical-align: middle;\n",
       "    }\n",
       "\n",
       "    .dataframe tbody tr th {\n",
       "        vertical-align: top;\n",
       "    }\n",
       "\n",
       "    .dataframe thead th {\n",
       "        text-align: right;\n",
       "    }\n",
       "</style>\n",
       "<table border=\"1\" class=\"dataframe\">\n",
       "  <thead>\n",
       "    <tr style=\"text-align: right;\">\n",
       "      <th></th>\n",
       "      <th>merge_sort</th>\n",
       "      <th>quicksort_recursive</th>\n",
       "      <th>selection_sort</th>\n",
       "      <th>insertion_sort</th>\n",
       "    </tr>\n",
       "  </thead>\n",
       "  <tbody>\n",
       "    <tr>\n",
       "      <th>10</th>\n",
       "      <td>0.001721</td>\n",
       "      <td>0.003727</td>\n",
       "      <td>0.001151</td>\n",
       "      <td>0.000230</td>\n",
       "    </tr>\n",
       "    <tr>\n",
       "      <th>50</th>\n",
       "      <td>0.012195</td>\n",
       "      <td>0.040899</td>\n",
       "      <td>0.011482</td>\n",
       "      <td>0.000757</td>\n",
       "    </tr>\n",
       "    <tr>\n",
       "      <th>100</th>\n",
       "      <td>0.016649</td>\n",
       "      <td>0.087237</td>\n",
       "      <td>0.047592</td>\n",
       "      <td>0.001508</td>\n",
       "    </tr>\n",
       "    <tr>\n",
       "      <th>500</th>\n",
       "      <td>0.090157</td>\n",
       "      <td>1.777631</td>\n",
       "      <td>0.864842</td>\n",
       "      <td>0.006250</td>\n",
       "    </tr>\n",
       "    <tr>\n",
       "      <th>1000</th>\n",
       "      <td>0.177590</td>\n",
       "      <td>6.169032</td>\n",
       "      <td>4.268590</td>\n",
       "      <td>0.016166</td>\n",
       "    </tr>\n",
       "    <tr>\n",
       "      <th>2000</th>\n",
       "      <td>0.540062</td>\n",
       "      <td>28.543862</td>\n",
       "      <td>18.174087</td>\n",
       "      <td>0.034928</td>\n",
       "    </tr>\n",
       "  </tbody>\n",
       "</table>\n",
       "</div>"
      ],
      "text/plain": [
       "      merge_sort  quicksort_recursive  selection_sort  insertion_sort\n",
       "10      0.001721             0.003727        0.001151        0.000230\n",
       "50      0.012195             0.040899        0.011482        0.000757\n",
       "100     0.016649             0.087237        0.047592        0.001508\n",
       "500     0.090157             1.777631        0.864842        0.006250\n",
       "1000    0.177590             6.169032        4.268590        0.016166\n",
       "2000    0.540062            28.543862       18.174087        0.034928"
      ]
     },
     "execution_count": 30,
     "metadata": {},
     "output_type": "execute_result"
    }
   ],
   "source": [
    "results.sort_index()\n"
   ]
  },
  {
   "cell_type": "code",
   "execution_count": 29,
   "metadata": {},
   "outputs": [
    {
     "name": "stderr",
     "output_type": "stream",
     "text": [
      "  0%|          | 0/1 [00:00<?, ?it/s]"
     ]
    },
    {
     "name": "stderr",
     "output_type": "stream",
     "text": [
      "100%|██████████| 1/1 [02:30<00:00, 150.76s/it]\n"
     ]
    }
   ],
   "source": [
    "#array_sizes = [int(10**x) for x in range(1, 7, 2)]\n",
    "for size in tqdm.tqdm([2000]):\n",
    "    Test = AlgoTest(size, [merge_sort, quicksort_recursive, selection_sort, insertion_sort])\n",
    "    result = Test.runtimes()\n",
    "    df = pd.DataFrame(result, index=[size])\n",
    "    results = pd.concat([results, df])\n",
    "\n"
   ]
  },
  {
   "cell_type": "code",
   "execution_count": 31,
   "metadata": {},
   "outputs": [
    {
     "data": {
      "text/plain": [
       "<Axes: >"
      ]
     },
     "execution_count": 31,
     "metadata": {},
     "output_type": "execute_result"
    },
    {
     "data": {
      "image/png": "[encoded data removed]",
      "text/plain": [
       "<Figure size 640x480 with 1 Axes>"
      ]
     },
     "metadata": {},
     "output_type": "display_data"
    }
   ],
   "source": [
    "results.plot()"
   ]
  },
  {
   "cell_type": "code",
   "execution_count": null,
   "metadata": {},
   "outputs": [],
   "source": []
  },
  {
   "cell_type": "code",
   "execution_count": null,
   "metadata": {},
   "outputs": [],
   "source": []
  }
 ],
 "metadata": {
  "kernelspec": {
   "display_name": "maplestory",
   "language": "python",
   "name": "python3"
  },
  "language_info": {
   "codemirror_mode": {
    "name": "ipython",
    "version": 3
   },
   "file_extension": ".py",
   "mimetype": "text/x-python",
   "name": "python",
   "nbconvert_exporter": "python",
   "pygments_lexer": "ipython3",
   "version": "3.11.5"
  }
 },
 "nbformat": 4,
 "nbformat_minor": 2
}
