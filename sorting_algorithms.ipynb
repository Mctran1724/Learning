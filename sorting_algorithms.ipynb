{
 "cells": [
  {
   "cell_type": "markdown",
   "metadata": {},
   "source": [
    "# A self-learning exercise\n",
    "### Foray into sorting algorithms and their performance.\n",
    "I wanted to learn more about computer science in an ab initio and exploratory manner. Sorting algorithms are a part of that journey and so in this project, I write some popular ones from scratch and create a way to test and measure their performance. The methods may be slightly flawed as not all sorting algorithms will have the same degree of optimization."
   ]
  },
  {
   "cell_type": "code",
   "execution_count": 13,
   "metadata": {},
   "outputs": [],
   "source": [
    "import random\n",
    "from typing import List"
   ]
  },
  {
   "cell_type": "code",
   "execution_count": 14,
   "metadata": {},
   "outputs": [],
   "source": [
    "def merge_sort(arr: List) -> List:\n",
    "    #Base case is trivially sorted unitary array\n",
    "    if len(arr) <= 1:\n",
    "        return arr\n",
    "\n",
    "    #We split the array in half and stitch back sorted half arrays.\n",
    "    mid = len(arr)//2\n",
    "    left = arr[:mid]\n",
    "    right = arr[mid:]\n",
    "    #print(f\"Splitting up array into {left} and {right} and sorting each.\")\n",
    "\n",
    "    sorted_left = merge_sort(left)\n",
    "    sorted_right = merge_sort(right)\n",
    "\n",
    "    #print(f\"Stitching {sorted_left} and {sorted_right} back together\")\n",
    "\n",
    "    i = 0\n",
    "    j = 0\n",
    "\n",
    "    result = []\n",
    "    #Taking advantage of the fact that they're sorted already, it's easy to generate an overall sorted array using a two pointer algorithm\n",
    "\n",
    "    #As long as we have remaining elements in the array\n",
    "    while i < len(sorted_left) and j < len(sorted_right):\n",
    "        if sorted_left[i] < sorted_right[j]:\n",
    "            result.append(sorted_left[i])\n",
    "            i += 1\n",
    "        else:\n",
    "            result.append(sorted_right[j])\n",
    "            j += 1\n",
    " \n",
    "    if i >= len(sorted_left):\n",
    "        result += sorted_right[j:]\n",
    "    elif j >= len(sorted_right):\n",
    "        result += sorted_left[i:]\n",
    "\n",
    "    #print(f\"Array stitching complete: {result}\")\n",
    "\n",
    "    return result\n",
    "\n",
    "def quicksort(arr: List, pivot_point: int = -1) -> List:\n",
    "    if not arr or len(arr) <= 1:\n",
    "        return arr\n",
    "\n",
    "    pivot_point = -1\n",
    "    pivot = arr[pivot_point]\n",
    "    #print(f\"Choosing pivot {pivot} at index {pivot_point}\")\n",
    "    middle = [x for x in arr if x == pivot]\n",
    "    less = [x for x in arr if x < pivot]\n",
    "    greater = [x for x in arr if x > pivot]\n",
    "    #print(f\"Splitting array into {less}, {middle}, and {greater}\")\n",
    "\n",
    "    result = quicksort(less) + quicksort(middle) + quicksort(greater)\n",
    "    return result"
   ]
  },
  {
   "cell_type": "code",
   "execution_count": null,
   "metadata": {},
   "outputs": [],
   "source": [
    "class AlgoTest:\n",
    "    def __init__(self, n: int, *args: List[function]):\n",
    "        self._n = int(n) if type(n) is float else n\n",
    "        self._algorithms = args\n",
    "    \n",
    "    def pre_sort(self, x: float):\n",
    "        #x is the proportion of elements of the array that will already be sorted\n",
    "        return\n",
    "    \n",
    "    def negatives(self):\n",
    "        #Test to see if negative values impact performance\n",
    "        return\n",
    "    \n",
    "    \n",
    "    "
   ]
  },
  {
   "cell_type": "code",
   "execution_count": 118,
   "metadata": {},
   "outputs": [],
   "source": [
    "#comparing quicksort and merge sort\n"
   ]
  },
  {
   "cell_type": "code",
   "execution_count": 19,
   "metadata": {},
   "outputs": [
    {
     "name": "stdout",
     "output_type": "stream",
     "text": [
      "Choosing pivot 5 at index -1\n",
      "Splitting array into [3, 4, 1, 2, 0], [5], and [6, 8, 7, 9]\n",
      "Choosing pivot 0 at index -1\n",
      "Splitting array into [], [0], and [3, 4, 1, 2]\n",
      "Choosing pivot 2 at index -1\n",
      "Splitting array into [1], [2], and [3, 4]\n",
      "Choosing pivot 4 at index -1\n",
      "Splitting array into [3], [4], and []\n",
      "Choosing pivot 9 at index -1\n",
      "Splitting array into [6, 8, 7], [9], and []\n",
      "Choosing pivot 7 at index -1\n",
      "Splitting array into [6], [7], and [8]\n"
     ]
    }
   ],
   "source": []
  },
  {
   "cell_type": "code",
   "execution_count": 20,
   "metadata": {},
   "outputs": [
    {
     "data": {
      "text/plain": [
       "[0, 1, 2, 3, 4, 5, 6, 7, 8, 9]"
      ]
     },
     "execution_count": 20,
     "metadata": {},
     "output_type": "execute_result"
    }
   ],
   "source": [
    "a"
   ]
  },
  {
   "cell_type": "code",
   "execution_count": 52,
   "metadata": {},
   "outputs": [],
   "source": []
  },
  {
   "cell_type": "code",
   "execution_count": 54,
   "metadata": {},
   "outputs": [
    {
     "data": {
      "text/plain": [
       "dict_values([1, 2, 3])"
      ]
     },
     "execution_count": 54,
     "metadata": {},
     "output_type": "execute_result"
    }
   ],
   "source": []
  },
  {
   "cell_type": "code",
   "execution_count": null,
   "metadata": {},
   "outputs": [],
   "source": []
  }
 ],
 "metadata": {
  "kernelspec": {
   "display_name": "maplestory",
   "language": "python",
   "name": "python3"
  },
  "language_info": {
   "codemirror_mode": {
    "name": "ipython",
    "version": 3
   },
   "file_extension": ".py",
   "mimetype": "text/x-python",
   "name": "python",
   "nbconvert_exporter": "python",
   "pygments_lexer": "ipython3",
   "version": "3.11.5"
  }
 },
 "nbformat": 4,
 "nbformat_minor": 2
}
