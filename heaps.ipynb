{
 "cells": [
  {
   "cell_type": "code",
   "execution_count": null,
   "metadata": {},
   "outputs": [
    {
     "ename": "IndentationError",
     "evalue": "expected an indented block after function definition on line 11 (1751493070.py, line 13)",
     "output_type": "error",
     "traceback": [
      "\u001b[1;36m  Cell \u001b[1;32mIn[12], line 13\u001b[1;36m\u001b[0m\n\u001b[1;33m    \"\"\"\u001b[0m\n\u001b[1;37m    ^\u001b[0m\n\u001b[1;31mIndentationError\u001b[0m\u001b[1;31m:\u001b[0m expected an indented block after function definition on line 11\n"
     ]
    }
   ],
   "source": [
    "from typing import Optional, List\n",
    "class MinHeap:\n",
    "    def __init__(self, array: Optional[iter] = None):\n",
    "        self._heap = []\n",
    "        self._size = 0 \n",
    "        if array:\n",
    "            for x in array:\n",
    "                self.push(x)\n",
    "                self._size += 1 \n",
    "\n",
    "    def __repr__(self):\n",
    "        return str(self._heap)\n",
    "    \n",
    "    def __len__(self):\n",
    "        return self._size\n",
    "    \n",
    "    \"\"\"\n",
    "    Helper methods:\n",
    "    \"\"\"\n",
    "\n",
    "    def _parent(self, index):\n",
    "        return (index - 1) // 2\n",
    "\n",
    "    def _left(self, index):\n",
    "        return 2 * index + 1\n",
    "    \n",
    "    def _right(self, index):\n",
    "        return 2 * index + 2\n",
    "\n",
    "    def _siftup(self, index):\n",
    "        \"\"\"\n",
    "        in-place sifting up of the item at index.\n",
    "        Repeatedly swaps the item with its parent until it is in the correct place\n",
    "        That is, every item in the heap is less than or equal to its parent.\n",
    "        \"\"\"\n",
    "\n",
    "        curr = index\n",
    "        parent = self._parent(index)\n",
    "\n",
    "        while curr > 0 and self._heap[curr] > self._heap[parent]:\n",
    "            self._heap[curr], self._heap[parent] = self._heap[parent], self._heap[curr]\n",
    "            curr = parent\n",
    "            parent = self._parent(curr)\n",
    "\n",
    "        pass\n",
    "\n",
    "    def _siftdown(self, index):\n",
    "        pass\n",
    "\n",
    "    \"\"\"\n",
    "    Main functionality methods:\n",
    "\n",
    "    \"\"\"\n",
    "\n",
    "    def push(self, value):\n",
    "        # 2 Step heap push:\n",
    "        # 1. Add value to the end of the heap in constant time\n",
    "        self._heap.append(value)\n",
    "        # 2. Sift up the value to the correct position\n",
    "        self._siftup()\n",
    "        self._size += 1\n",
    "        pass\n",
    "\n",
    "    def pop(self):\n",
    "\n",
    "        pass\n",
    "\n",
    "    def peek(self):\n",
    "        pass\n",
    "    \n",
    "    def delete(self, value):\n",
    "        pass\n",
    "        "
   ]
  },
  {
   "cell_type": "code",
   "execution_count": null,
   "metadata": {},
   "outputs": [
    {
     "ename": "NameError",
     "evalue": "name 'Heap' is not defined",
     "output_type": "error",
     "traceback": [
      "\u001b[1;31m---------------------------------------------------------------------------\u001b[0m",
      "\u001b[1;31mNameError\u001b[0m                                 Traceback (most recent call last)",
      "Cell \u001b[1;32mIn[11], line 1\u001b[0m\n\u001b[1;32m----> 1\u001b[0m heap \u001b[38;5;241m=\u001b[39m \u001b[43mHeap\u001b[49m([\u001b[38;5;241m1\u001b[39m, \u001b[38;5;241m2\u001b[39m, \u001b[38;5;241m3\u001b[39m, \u001b[38;5;241m4\u001b[39m, \u001b[38;5;241m5\u001b[39m], \u001b[38;5;28;01mTrue\u001b[39;00m)\n",
      "\u001b[1;31mNameError\u001b[0m: name 'Heap' is not defined"
     ]
    }
   ],
   "source": [
    "heap = Heap([1, 2, 3, 4, 5], True)\n"
   ]
  },
  {
   "cell_type": "code",
   "execution_count": null,
   "metadata": {},
   "outputs": [],
   "source": []
  }
 ],
 "metadata": {
  "kernelspec": {
   "display_name": "markets",
   "language": "python",
   "name": "python3"
  },
  "language_info": {
   "codemirror_mode": {
    "name": "ipython",
    "version": 3
   },
   "file_extension": ".py",
   "mimetype": "text/x-python",
   "name": "python",
   "nbconvert_exporter": "python",
   "pygments_lexer": "ipython3",
   "version": "3.12.2"
  }
 },
 "nbformat": 4,
 "nbformat_minor": 2
}
